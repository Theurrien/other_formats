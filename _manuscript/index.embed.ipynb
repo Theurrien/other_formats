{
 "cells": [
  {
   "cell_type": "markdown",
   "metadata": {},
   "source": [
    "# No other formats?\n",
    "\n",
    "Let’s test! (Nowhereoutthere)"
   ],
   "id": "5b510711-11c5-4966-91b5-f8eef01493f5"
  },
  {
   "cell_type": "code",
   "execution_count": null,
   "metadata": {},
   "outputs": [
    {
     "output_type": "stream",
     "name": "stderr",
     "text": [
      "── Attaching core tidyverse packages ──────────────────────── tidyverse 2.0.0 ──\n",
      "✔ dplyr     1.1.4     ✔ readr     2.1.5\n",
      "✔ forcats   1.0.0     ✔ stringr   1.5.1\n",
      "✔ ggplot2   3.5.1     ✔ tibble    3.2.1\n",
      "✔ lubridate 1.9.3     ✔ tidyr     1.3.1\n",
      "✔ purrr     1.0.2     \n",
      "── Conflicts ────────────────────────────────────────── tidyverse_conflicts() ──\n",
      "✖ dplyr::filter() masks stats::filter()\n",
      "✖ dplyr::lag()    masks stats::lag()\n",
      "ℹ Use the conflicted package (<http://conflicted.r-lib.org/>) to force all conflicts to become errors"
     ]
    },
    {
     "output_type": "stream",
     "name": "stderr",
     "text": [
      "here() starts at /Users/urs/Desktop/other_formats"
     ]
    }
   ],
   "source": [
    "library(tidyverse)"
   ],
   "id": "3b5c5727-e1ad-4784-8b9a-148222266b91"
  },
  {
   "cell_type": "markdown",
   "metadata": {},
   "source": [
    "# Einleitung Einführung in die Problemstellung, Theorie- und Literaturübersicht\n",
    "\n",
    "-   Start broad, importance of (chemistry) education\n",
    "-   Narrow down (vR as a education tool)\n",
    "-   Research questions\n",
    "-   State hypotheses\n",
    "\n",
    "# Methoden\n",
    "\n",
    "Lorem Ipsum!\n",
    "\n",
    "# Ergebnisse\n",
    "\n",
    "## Even more Lorem Ipsum!\n",
    "\n",
    "# Interpretation und Diskussion\n",
    "\n",
    "And some text here…\n",
    "\n",
    "# Bibliographie"
   ],
   "id": "1c1db792-3580-4f75-8bfc-3d9bd4ea9f60"
  }
 ],
 "nbformat": 4,
 "nbformat_minor": 5,
 "metadata": {}
}
